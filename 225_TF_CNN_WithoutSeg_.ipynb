{
  "nbformat": 4,
  "nbformat_minor": 0,
  "metadata": {
    "accelerator": "GPU",
    "colab": {
      "name": "225_TF_CNN_WithoutSeg .ipynb",
      "provenance": [],
      "collapsed_sections": [],
      "authorship_tag": "ABX9TyNHDtrzO/JPfkETV3EC6Sfe",
      "include_colab_link": true
    },
    "kernelspec": {
      "display_name": "Python 3",
      "name": "python3"
    },
    "language_info": {
      "name": "python"
    }
  },
  "cells": [
    {
      "cell_type": "markdown",
      "metadata": {
        "id": "view-in-github",
        "colab_type": "text"
      },
      "source": [
        "<a href=\"https://colab.research.google.com/github/IreneYIN7/Categorize_Lung_Cancer/blob/main/225_TF_CNN_WithoutSeg_.ipynb\" target=\"_parent\"><img src=\"https://colab.research.google.com/assets/colab-badge.svg\" alt=\"Open In Colab\"/></a>"
      ]
    },
    {
      "cell_type": "code",
      "metadata": {
        "colab": {
          "base_uri": "https://localhost:8080/"
        },
        "id": "fcNX0Kg9VN8n",
        "outputId": "abadb20d-8096-42a1-fb69-3323cb02de7b"
      },
      "source": [
        "import matplotlib.pyplot as plt\n",
        "from torchvision import datasets, transforms\n",
        "from torch.utils.data import DataLoader\n",
        "import torch.nn as nn\n",
        "import torch.nn.functional as F\n",
        "import torch.optim as optim\n",
        "import torch\n",
        "\n",
        "from google.colab import drive\n",
        "import os\n",
        "drive.mount('/content/drive')\n",
        "\n"
      ],
      "execution_count": null,
      "outputs": [
        {
          "output_type": "stream",
          "name": "stdout",
          "text": [
            "Mounted at /content/drive\n"
          ]
        }
      ]
    },
    {
      "cell_type": "code",
      "metadata": {
        "colab": {
          "base_uri": "https://localhost:8080/"
        },
        "id": "s3twBImOD5y0",
        "outputId": "78e2f1f2-34fe-46f4-ec05-a3963ee27505"
      },
      "source": [
        "# Change directory to load the data -- change back after it has been loaded!!!\n",
        "import os\n",
        "os.chdir(\"/content/drive/MyDrive/2021_Zhebin_Math_Thesis/\")\n",
        "!pwd\n",
        "!ls\n",
        "\n",
        "# Use a number of custom code files to make it easier to manipulate the data.\n",
        "# This is the easiest way to make the modules accessible:\n",
        "import sys\n",
        "sys.path.append('./utils')"
      ],
      "execution_count": null,
      "outputs": [
        {
          "output_type": "stream",
          "name": "stdout",
          "text": [
            "/content/drive/MyDrive/2021_Zhebin_Math_Thesis\n",
            " Aone_256x256px.pkl\t\t     Research_Journel.docx\n",
            " Bfour_256x256px.pkl\t\t     TestData40X_CTC_withoutseg_RGB\n",
            " cancer_256x256px.pkl\t\t     Test_Data_PNG\n",
            " CNN\t\t\t\t    'TF_CNN_BinImages .ipynb'\n",
            "'Homecoming Poster Session.gsheet'   TrainData40X_CTC_withoutseg_RGB\n",
            " None_256x256px.pkl\t\t     Train_Data_.DAT\n",
            " Paper_Reference\t\t     Train_Data_.PNG\n",
            " Pone_256x256px.pkl\t\t     utils\n"
          ]
        }
      ]
    },
    {
      "cell_type": "markdown",
      "metadata": {
        "id": "_veDfmJu9jis"
      },
      "source": [
        "### Label the Image with their folder name\n"
      ]
    },
    {
      "cell_type": "code",
      "metadata": {
        "id": "f-ZsK2dz9jHr"
      },
      "source": [
        "%matplotlib inline\n",
        " \n",
        "import matplotlib.pyplot as plt\n",
        "import numpy as np\n",
        "import os\n",
        "import pprint\n",
        "pp = pprint.PrettyPrinter(indent=4)"
      ],
      "execution_count": null,
      "outputs": []
    },
    {
      "cell_type": "code",
      "metadata": {
        "id": "WLz0gcId9tQE"
      },
      "source": [
        "import joblib\n",
        "from skimage.io import imread\n",
        "from skimage.transform import resize\n",
        " \n",
        "def resize_all(src, pklname, include, width=150, height=None):\n",
        "    \"\"\"\n",
        "    load images from path, resize them and write them as arrays to a dictionary, \n",
        "    together with labels and metadata. The dictionary is written to a pickle file \n",
        "    named '{pklname}_{width}x{height}px.pkl'.\n",
        "     \n",
        "    Parameter\n",
        "    ---------\n",
        "    src: str\n",
        "        path to data\n",
        "    pklname: str\n",
        "        path to output file\n",
        "    width: int\n",
        "        target width of the image in pixels\n",
        "    include: set[str]\n",
        "        set containing str\n",
        "    \"\"\"\n",
        "     \n",
        "    height = height if height is not None else width\n",
        "     \n",
        "    data = dict()\n",
        "    data['description'] = 'resized ({0}x{1}) cancer images in rgb'.format(int(width), int(height))\n",
        "    data['label'] = []\n",
        "    data['filename'] = []\n",
        "    data['data'] = []   \n",
        "     \n",
        "    pklname = f\"{pklname}_{width}x{height}px.pkl\"\n",
        " \n",
        "    # read all images in PATH, resize and write to DESTINATION_PATH\n",
        "    for subdir in os.listdir(src):\n",
        "        if subdir in include:\n",
        "            print(subdir)\n",
        "            current_path = os.path.join(src, subdir)\n",
        " \n",
        "            for file in os.listdir(current_path):\n",
        "                if file[-3:] in {'TIF', 'tif'}:\n",
        "                    im = imread(os.path.join(current_path, file))\n",
        "                    im = resize(im, (width, height)) #[:,:,::-1]\n",
        "                    data['label'].append(subdir)\n",
        "                    data['filename'].append(file)\n",
        "                    data['data'].append(im)\n",
        " \n",
        "        joblib.dump(data, pklname)"
      ],
      "execution_count": null,
      "outputs": []
    },
    {
      "cell_type": "code",
      "metadata": {
        "colab": {
          "base_uri": "https://localhost:8080/"
        },
        "id": "RX4iT0GW9yeW",
        "outputId": "80dc95dc-62c6-4a93-f044-82ae130d44fa"
      },
      "source": [
        "# modify to fit your system\n",
        "data_path = '/content/drive/MyDrive/Research/Summer_Research_2021/TrainimgData_Tif/TrainData40X_CSC_RGB'\n",
        "\n",
        "os.listdir(data_path)"
      ],
      "execution_count": null,
      "outputs": [
        {
          "output_type": "execute_result",
          "data": {
            "text/plain": [
              "['Aone', 'None', 'Bfour', 'Pone']"
            ]
          },
          "metadata": {},
          "execution_count": 39
        }
      ]
    },
    {
      "cell_type": "markdown",
      "metadata": {
        "id": "Ulg8PHhHPecj"
      },
      "source": [
        "### Split dataset in original way"
      ]
    },
    {
      "cell_type": "code",
      "metadata": {
        "colab": {
          "base_uri": "https://localhost:8080/"
        },
        "id": "p20-e4OCP7QZ",
        "outputId": "9b313f20-88c7-456c-cc5c-daa3fbd213be"
      },
      "source": [
        "base_name = 'cancer'\n",
        "width = 256\n",
        "include = {'Aone', 'None', 'Bfour', 'Pone'}\n",
        "\n",
        "resize_all(src=data_path, pklname=base_name, width=width, include=include)\n"
      ],
      "execution_count": null,
      "outputs": [
        {
          "output_type": "stream",
          "name": "stdout",
          "text": [
            "Aone\n",
            "None\n",
            "Bfour\n",
            "Pone\n"
          ]
        }
      ]
    },
    {
      "cell_type": "code",
      "metadata": {
        "colab": {
          "base_uri": "https://localhost:8080/"
        },
        "id": "tT65J_FuPaO_",
        "outputId": "9b2dbff6-b63c-4149-8554-7cd99e6749a1"
      },
      "source": [
        "from collections import Counter\n",
        "\n",
        "data = joblib.load(f'{base_name}_{width}x{width}px.pkl')\n",
        "\n",
        "print('number of samples: ', len(data['data']))\n",
        "print('keys: ', list(data.keys()))\n",
        "print('description: ', data['description'])\n",
        "print('image shape: ', data['data'][0].shape)\n",
        "print('labels:', np.unique(data['label']))\n",
        " \n",
        "Counter(data['label'])"
      ],
      "execution_count": null,
      "outputs": [
        {
          "output_type": "stream",
          "name": "stdout",
          "text": [
            "number of samples:  205\n",
            "keys:  ['description', 'label', 'filename', 'data']\n",
            "description:  resized (256x256) cancer images in rgb\n",
            "image shape:  (256, 256, 3)\n",
            "labels: ['Aone' 'Bfour' 'None' 'Pone']\n"
          ]
        },
        {
          "output_type": "execute_result",
          "data": {
            "text/plain": [
              "Counter({'Aone': 50, 'Bfour': 51, 'None': 52, 'Pone': 52})"
            ]
          },
          "metadata": {},
          "execution_count": 41
        }
      ]
    },
    {
      "cell_type": "code",
      "metadata": {
        "colab": {
          "base_uri": "https://localhost:8080/",
          "height": 273
        },
        "id": "0LJil4zdPkYE",
        "outputId": "cdef0e1f-883b-4a6b-ba5e-270fce3940de"
      },
      "source": [
        "# use np.unique to get all unique values in the list of labels\n",
        "labels = np.unique(data['label'])\n",
        "\n",
        "# set up the matplotlib figure and axes, based on the number of labels\n",
        "fig, axes = plt.subplots(1, len(labels))\n",
        "fig.set_size_inches(15,4)\n",
        "fig.tight_layout()\n",
        " \n",
        "# make a plot for every label (equipment) type. The index method returns the \n",
        "# index of the first item corresponding to its search string, label in this case\n",
        "for ax, label in zip(axes, labels):\n",
        "    idx = data['label'].index(label)\n",
        "     \n",
        "    ax.imshow(data['data'][idx])\n",
        "    ax.axis('off')\n",
        "    ax.set_title(label)"
      ],
      "execution_count": null,
      "outputs": [
        {
          "output_type": "display_data",
          "data": {
            "image/png": "[encoded data removed]",
            "text/plain": [
              "<Figure size 1080x288 with 4 Axes>"
            ]
          },
          "metadata": {
            "needs_background": "light"
          }
        }
      ]
    },
    {
      "cell_type": "code",
      "metadata": {
        "id": "I484XVVGPmzJ"
      },
      "source": [
        "X = np.array(data['data'])\n",
        "y = np.array(data['label'])"
      ],
      "execution_count": null,
      "outputs": []
    },
    {
      "cell_type": "code",
      "metadata": {
        "colab": {
          "base_uri": "https://localhost:8080/"
        },
        "id": "XMTusAAXPn6h",
        "outputId": "84e5ed47-baae-48db-b590-574d1dcdf302"
      },
      "source": [
        "from sklearn.model_selection import train_test_split\n",
        " \n",
        "\n",
        "X_train, X_test, y_train, y_test = train_test_split(\n",
        "    X, \n",
        "    y, \n",
        "    test_size=0.1, \n",
        "    shuffle=True,\n",
        "    random_state=42,\n",
        ")\n",
        "print(X_train.shape)\n",
        "print(y_train.shape)\n",
        "print(X_test.shape)"
      ],
      "execution_count": null,
      "outputs": [
        {
          "output_type": "stream",
          "name": "stdout",
          "text": [
            "(184, 256, 256, 3)\n",
            "(184,)\n",
            "(21, 256, 256, 3)\n"
          ]
        }
      ]
    },
    {
      "cell_type": "code",
      "metadata": {
        "colab": {
          "base_uri": "https://localhost:8080/",
          "height": 324
        },
        "id": "586lyHP7PszL",
        "outputId": "dc467df8-dc50-4147-d77b-838fdc6e02fb"
      },
      "source": [
        "def plot_bar(y, loc='left', relative=True):\n",
        "    width = 0.35\n",
        "    if loc == 'left':\n",
        "        n = -0.5\n",
        "    elif loc == 'right':\n",
        "        n = 0.5\n",
        "     \n",
        "    # calculate counts per type and sort, to ensure their order\n",
        "    unique, counts = np.unique(y, return_counts=True)\n",
        "    sorted_index = np.argsort(unique)\n",
        "    unique = unique[sorted_index]\n",
        "     \n",
        "    if relative:\n",
        "        # plot as a percentage\n",
        "        counts = counts[sorted_index]\n",
        "        #counts = 100*counts[sorted_index]/len(y)\n",
        "        ylabel_text = '% count'\n",
        "    else:\n",
        "        # plot counts\n",
        "        counts = counts[sorted_index]\n",
        "        ylabel_text = 'count'\n",
        "         \n",
        "    xtemp = np.arange(len(unique))\n",
        "     \n",
        "    plt.bar(xtemp + n*width, counts, align='center', alpha=.7, width=width)\n",
        "    plt.xticks(xtemp, unique, rotation=45)\n",
        "    plt.xlabel('equipment type')\n",
        "    plt.ylabel(ylabel_text)\n",
        " \n",
        "plt.suptitle('relative amount of Images per type')\n",
        "plot_bar(y_train, loc='left')\n",
        "plot_bar(y_test, loc='right')\n",
        "plt.legend([\n",
        "    'train ({0} )'.format(len(y_train)), \n",
        "    'test ({0} )'.format(len(y_test))\n",
        "]);"
      ],
      "execution_count": null,
      "outputs": [
        {
          "output_type": "display_data",
          "data": {
            "image/png": "[encoded data removed]",
            "text/plain": [
              "<Figure size 432x288 with 1 Axes>"
            ]
          },
          "metadata": {
            "needs_background": "light"
          }
        }
      ]
    },
    {
      "cell_type": "markdown",
      "metadata": {
        "id": "HWijGfE4PBKZ"
      },
      "source": [
        "### Build CNN model in TensorFlow\n"
      ]
    },
    {
      "cell_type": "code",
      "metadata": {
        "id": "tt6Q9W1FPFIo"
      },
      "source": [
        "import tensorflow as tf\n",
        "\n",
        "from tensorflow.keras import datasets, layers, models\n",
        "import matplotlib.pyplot as plt"
      ],
      "execution_count": null,
      "outputs": []
    },
    {
      "cell_type": "code",
      "metadata": {
        "colab": {
          "base_uri": "https://localhost:8080/"
        },
        "id": "n8F6dLsJWj_A",
        "outputId": "ac52536f-183f-4143-ac57-8aefd8db93c9"
      },
      "source": [
        "  model = tf.keras.models.Sequential()\n",
        "  model.add(tf.keras.layers.BatchNormalization(input_shape=(256,256,3)))\n",
        "  model.add(tf.keras.layers.Conv2D(16, (5, 5), padding='same', activation='relu'))\n",
        "  model.add(tf.keras.layers.MaxPooling2D(pool_size=(2, 2), strides=(2,2)))\n",
        "  model.add(tf.keras.layers.Dropout(0.25))\n",
        "\n",
        "  model.add(tf.keras.layers.Conv2D(32, (5, 5), padding='same', activation='relu'))\n",
        "  model.add(tf.keras.layers.MaxPooling2D(pool_size=(2, 2), strides=(2,2)))\n",
        "  model.add(tf.keras.layers.Dropout(0.25))\n",
        "\n",
        "  model.add(tf.keras.layers.Conv2D(64, (5, 5), padding='same', activation='relu'))\n",
        "  model.add(tf.keras.layers.MaxPooling2D(pool_size=(2, 2), strides=(2,2)))\n",
        "  model.add(tf.keras.layers.Dropout(0.25))\n",
        "\n",
        "  model.add(tf.keras.layers.BatchNormalization(input_shape=(256,256,3)))\n",
        "  model.add(tf.keras.layers.Conv2D(128, (5, 5), padding='same', activation='relu'))\n",
        "  model.add(tf.keras.layers.MaxPooling2D(pool_size=(2, 2)))\n",
        "  model.add(tf.keras.layers.Dropout(0.25))\n",
        "\n",
        "  model.add(tf.keras.layers.BatchNormalization(input_shape=(256,256,3)))\n",
        "  model.add(tf.keras.layers.Conv2D(256, (5, 5), padding='same', activation='relu'))\n",
        "  model.add(tf.keras.layers.MaxPooling2D(pool_size=(2, 2), strides=(2,2)))\n",
        "  model.add(tf.keras.layers.Dropout(0.25))\n",
        "\n",
        "  model.add(tf.keras.layers.BatchNormalization(input_shape=(256,256,3)))\n",
        "  model.add(tf.keras.layers.Conv2D(512, (5, 5), padding='same', activation='relu'))\n",
        "  model.add(tf.keras.layers.MaxPooling2D(pool_size=(2, 2), strides=(2,2)))\n",
        "  model.add(tf.keras.layers.Dropout(0.25))\n",
        "\n",
        "  model.add(tf.keras.layers.Flatten())\n",
        "  model.add(tf.keras.layers.Dense(2048))\n",
        "  model.add(tf.keras.layers.Activation('relu'))\n",
        "  model.add(tf.keras.layers.Dropout(0.25))\n",
        "\n",
        "  model.add(tf.keras.layers.Dense(1048))\n",
        "  model.add(tf.keras.layers.Activation('relu'))\n",
        "  model.add(tf.keras.layers.Dropout(0.25))\n",
        "\n",
        "  model.add(tf.keras.layers.Dense(512))\n",
        "  model.add(tf.keras.layers.Activation('relu'))\n",
        "  model.add(tf.keras.layers.Dropout(0.25))\n",
        "\n",
        "  model.add(tf.keras.layers.Dense(4))\n",
        "  model.add(tf.keras.layers.Activation('softmax'))\n",
        "  model.summary()"
      ],
      "execution_count": null,
      "outputs": [
        {
          "output_type": "stream",
          "name": "stdout",
          "text": [
            "Model: \"sequential_1\"\n",
            "_________________________________________________________________\n",
            " Layer (type)                Output Shape              Param #   \n",
            "=================================================================\n",
            " batch_normalization_4 (Batc  (None, 256, 256, 3)      12        \n",
            " hNormalization)                                                 \n",
            "                                                                 \n",
            " conv2d_6 (Conv2D)           (None, 256, 256, 16)      1216      \n",
            "                                                                 \n",
            " max_pooling2d_6 (MaxPooling  (None, 128, 128, 16)     0         \n",
            " 2D)                                                             \n",
            "                                                                 \n",
            " dropout_9 (Dropout)         (None, 128, 128, 16)      0         \n",
            "                                                                 \n",
            " conv2d_7 (Conv2D)           (None, 128, 128, 32)      12832     \n",
            "                                                                 \n",
            " max_pooling2d_7 (MaxPooling  (None, 64, 64, 32)       0         \n",
            " 2D)                                                             \n",
            "                                                                 \n",
            " dropout_10 (Dropout)        (None, 64, 64, 32)        0         \n",
            "                                                                 \n",
            " conv2d_8 (Conv2D)           (None, 64, 64, 64)        51264     \n",
            "                                                                 \n",
            " max_pooling2d_8 (MaxPooling  (None, 32, 32, 64)       0         \n",
            " 2D)                                                             \n",
            "                                                                 \n",
            " dropout_11 (Dropout)        (None, 32, 32, 64)        0         \n",
            "                                                                 \n",
            " batch_normalization_5 (Batc  (None, 32, 32, 64)       256       \n",
            " hNormalization)                                                 \n",
            "                                                                 \n",
            " conv2d_9 (Conv2D)           (None, 32, 32, 128)       204928    \n",
            "                                                                 \n",
            " max_pooling2d_9 (MaxPooling  (None, 16, 16, 128)      0         \n",
            " 2D)                                                             \n",
            "                                                                 \n",
            " dropout_12 (Dropout)        (None, 16, 16, 128)       0         \n",
            "                                                                 \n",
            " batch_normalization_6 (Batc  (None, 16, 16, 128)      512       \n",
            " hNormalization)                                                 \n",
            "                                                                 \n",
            " conv2d_10 (Conv2D)          (None, 16, 16, 256)       819456    \n",
            "                                                                 \n",
            " max_pooling2d_10 (MaxPoolin  (None, 8, 8, 256)        0         \n",
            " g2D)                                                            \n",
            "                                                                 \n",
            " dropout_13 (Dropout)        (None, 8, 8, 256)         0         \n",
            "                                                                 \n",
            " batch_normalization_7 (Batc  (None, 8, 8, 256)        1024      \n",
            " hNormalization)                                                 \n",
            "                                                                 \n",
            " conv2d_11 (Conv2D)          (None, 8, 8, 512)         3277312   \n",
            "                                                                 \n",
            " max_pooling2d_11 (MaxPoolin  (None, 4, 4, 512)        0         \n",
            " g2D)                                                            \n",
            "                                                                 \n",
            " dropout_14 (Dropout)        (None, 4, 4, 512)         0         \n",
            "                                                                 \n",
            " flatten_1 (Flatten)         (None, 8192)              0         \n",
            "                                                                 \n",
            " dense_4 (Dense)             (None, 2048)              16779264  \n",
            "                                                                 \n",
            " activation_4 (Activation)   (None, 2048)              0         \n",
            "                                                                 \n",
            " dropout_15 (Dropout)        (None, 2048)              0         \n",
            "                                                                 \n",
            " dense_5 (Dense)             (None, 1048)              2147352   \n",
            "                                                                 \n",
            " activation_5 (Activation)   (None, 1048)              0         \n",
            "                                                                 \n",
            " dropout_16 (Dropout)        (None, 1048)              0         \n",
            "                                                                 \n",
            " dense_6 (Dense)             (None, 512)               537088    \n",
            "                                                                 \n",
            " activation_6 (Activation)   (None, 512)               0         \n",
            "                                                                 \n",
            " dropout_17 (Dropout)        (None, 512)               0         \n",
            "                                                                 \n",
            " dense_7 (Dense)             (None, 4)                 2052      \n",
            "                                                                 \n",
            " activation_7 (Activation)   (None, 4)                 0         \n",
            "                                                                 \n",
            "=================================================================\n",
            "Total params: 23,834,568\n",
            "Trainable params: 23,833,666\n",
            "Non-trainable params: 902\n",
            "_________________________________________________________________\n"
          ]
        }
      ]
    },
    {
      "cell_type": "code",
      "metadata": {
        "colab": {
          "base_uri": "https://localhost:8080/"
        },
        "id": "QnBXU3RpXn8a",
        "outputId": "7b53b00e-905f-4301-91ba-7cf134909e01"
      },
      "source": [
        "import numpy as np\n",
        "print(X_train.shape)\n",
        "print(X_test.shape)\n",
        "print(y_train.shape)\n",
        "print(y_test.shape)\n",
        "include = {'Aone', 'None', 'Bfour', 'Pone'}\n",
        "#print(y_train)\n",
        "# turn string into int\n",
        "def turn_int(arraylist):\n",
        "  y_train_int = []\n",
        "  for i in arraylist:\n",
        "    if i == 'Aone':\n",
        "      y_train_int.append(0)\n",
        "    if i == 'None':\n",
        "      y_train_int.append(1)\n",
        "    if i == 'Bfour':\n",
        "      y_train_int.append(2)\n",
        "    if i == 'Pone':\n",
        "      y_train_int.append(3)\n",
        "  return y_train_int\n",
        "\n",
        "\n",
        "y_train_list = y_train.tolist()\n",
        "print(y_train_list)\n",
        "print(len(y_train_list))\n",
        "y_train_int = turn_int(y_train_list)\n",
        "print(y_train_int)\n",
        "print(len(y_train_int))\n",
        "y_train_int = np.array(y_train_int)\n",
        "y_test_int = turn_int(y_test)\n",
        "y_test_int = np.array(y_test_int)\n",
        "\n",
        "import numpy as np\n",
        "y_train_int = np.reshape(y_train_int, (-1, 1))\n",
        "y_test_int = np.reshape(y_test_int, (-1, 1))\n",
        "print(X_train.shape)\n",
        "print(y_train_int.shape)\n",
        "print(y_test_int.shape)\n",
        "\n",
        "print(X_test.shape)\n",
        "\n"
      ],
      "execution_count": null,
      "outputs": [
        {
          "output_type": "stream",
          "name": "stdout",
          "text": [
            "(184, 256, 256, 3)\n",
            "(21, 256, 256, 3)\n",
            "(184,)\n",
            "(21,)\n",
            "['None', 'None', 'Aone', 'Aone', 'Aone', 'Pone', 'Pone', 'None', 'Pone', 'None', 'Bfour', 'Pone', 'Pone', 'None', 'None', 'Bfour', 'None', 'Aone', 'None', 'Bfour', 'None', 'Bfour', 'Pone', 'None', 'Aone', 'Aone', 'Bfour', 'Bfour', 'Aone', 'Aone', 'Pone', 'None', 'Pone', 'None', 'Aone', 'Pone', 'None', 'Bfour', 'None', 'Bfour', 'Bfour', 'Pone', 'None', 'Pone', 'Aone', 'Aone', 'Aone', 'Bfour', 'Aone', 'Pone', 'Bfour', 'Bfour', 'None', 'Bfour', 'Pone', 'Aone', 'Bfour', 'None', 'Bfour', 'Aone', 'Bfour', 'Pone', 'Bfour', 'Aone', 'None', 'Aone', 'Bfour', 'Bfour', 'None', 'Bfour', 'Aone', 'Bfour', 'None', 'Aone', 'Bfour', 'Pone', 'Aone', 'Aone', 'Pone', 'Pone', 'Aone', 'Aone', 'Bfour', 'Pone', 'Bfour', 'Aone', 'Aone', 'Bfour', 'Pone', 'Bfour', 'Bfour', 'Aone', 'None', 'Bfour', 'Bfour', 'Pone', 'Aone', 'Pone', 'Pone', 'None', 'Pone', 'None', 'Aone', 'Pone', 'Aone', 'Aone', 'Bfour', 'Bfour', 'Aone', 'Pone', 'Pone', 'None', 'Aone', 'Pone', 'Aone', 'None', 'Pone', 'Aone', 'Bfour', 'Aone', 'Bfour', 'None', 'Bfour', 'Pone', 'Pone', 'Pone', 'Aone', 'None', 'Aone', 'Aone', 'Bfour', 'None', 'None', 'Pone', 'Pone', 'None', 'Aone', 'Aone', 'None', 'Pone', 'Bfour', 'Aone', 'None', 'Pone', 'Bfour', 'Pone', 'Pone', 'None', 'None', 'Bfour', 'None', 'Pone', 'Pone', 'None', 'Aone', 'None', 'Aone', 'None', 'Pone', 'Pone', 'Bfour', 'Aone', 'Pone', 'Pone', 'Aone', 'None', 'Bfour', 'Bfour', 'Bfour', 'Bfour', 'None', 'Bfour', 'None', 'None', 'Bfour', 'Pone', 'Aone', 'Pone', 'None', 'Bfour', 'Aone', 'None', 'Pone', 'Bfour']\n",
            "184\n",
            "[1, 1, 0, 0, 0, 3, 3, 1, 3, 1, 2, 3, 3, 1, 1, 2, 1, 0, 1, 2, 1, 2, 3, 1, 0, 0, 2, 2, 0, 0, 3, 1, 3, 1, 0, 3, 1, 2, 1, 2, 2, 3, 1, 3, 0, 0, 0, 2, 0, 3, 2, 2, 1, 2, 3, 0, 2, 1, 2, 0, 2, 3, 2, 0, 1, 0, 2, 2, 1, 2, 0, 2, 1, 0, 2, 3, 0, 0, 3, 3, 0, 0, 2, 3, 2, 0, 0, 2, 3, 2, 2, 0, 1, 2, 2, 3, 0, 3, 3, 1, 3, 1, 0, 3, 0, 0, 2, 2, 0, 3, 3, 1, 0, 3, 0, 1, 3, 0, 2, 0, 2, 1, 2, 3, 3, 3, 0, 1, 0, 0, 2, 1, 1, 3, 3, 1, 0, 0, 1, 3, 2, 0, 1, 3, 2, 3, 3, 1, 1, 2, 1, 3, 3, 1, 0, 1, 0, 1, 3, 3, 2, 0, 3, 3, 0, 1, 2, 2, 2, 2, 1, 2, 1, 1, 2, 3, 0, 3, 1, 2, 0, 1, 3, 2]\n",
            "184\n",
            "(184, 256, 256, 3)\n",
            "(184, 1)\n",
            "(21, 1)\n",
            "(21, 256, 256, 3)\n"
          ]
        }
      ]
    },
    {
      "cell_type": "code",
      "metadata": {
        "id": "ayl7aktbFMvR"
      },
      "source": [
        "# Use an ImageDataGenerator for the Training Data\n",
        "# Load the entire validation set for validation testing\n",
        "from keras.preprocessing.image import ImageDataGenerator\n",
        "data_generator = ImageDataGenerator(\n",
        "                        featurewise_center=False,\n",
        "                        featurewise_std_normalization=False,\n",
        "                        rotation_range=10,\n",
        "                        width_shift_range=0.1,\n",
        "                        height_shift_range=0.1,\n",
        "                        zoom_range=.1,\n",
        "                        horizontal_flip=True)"
      ],
      "execution_count": null,
      "outputs": []
    },
    {
      "cell_type": "code",
      "metadata": {
        "colab": {
          "base_uri": "https://localhost:8080/"
        },
        "id": "41PhhC6KDpSb",
        "outputId": "57d66656-e6fa-462b-d4fe-cb7936349cdf"
      },
      "source": [
        "from keras.callbacks import CSVLogger, ModelCheckpoint, EarlyStopping\n",
        "from keras.callbacks import ReduceLROnPlateau\n",
        "import time\n",
        "import keras\n",
        "\n",
        "\n",
        "#record the computation time for each epoch in keras during model.fit()\n",
        "class TimeHistory(keras.callbacks.Callback):\n",
        "    def on_train_begin(self, logs={}):\n",
        "        self.times = []\n",
        "\n",
        "    def on_epoch_begin(self, epoch, logs={}):\n",
        "        self.epoch_time_start = time.time()\n",
        "\n",
        "    def on_epoch_end(self, epoch, logs={}):\n",
        "        self.times.append(time.time() - self.epoch_time_start)\n",
        "\n",
        "\n",
        "# Model Fit Parameters\n",
        "batch_size = 64\n",
        "num_epochs = 100\n",
        "verbose = 1\n",
        "num_classes = 4\n",
        "patience = 40\n",
        "#patience = 40 # Note that patience is divided by 4 below ...\n",
        "\n",
        "base_path = './CNN/20'\n",
        "hist_file = './CNN/20TrnHist'\n",
        "print(base_path)\n",
        "print(hist_file)\n",
        "\n",
        "# Setup the callbacks\n",
        "log_file_path = base_path + '_cancer.tif'\n",
        "final_model_path = base_path + '_Final.hdf'\n",
        "print(\"final_model_path:\", final_model_path)\n",
        "# Note: append=False overwrites the previous file\n",
        "csv_logger = CSVLogger(log_file_path, append=False)\n",
        "# Note: leave out this for now:\n",
        "early_stop = EarlyStopping('val_loss', patience=patience)\n",
        "# and removed from callbacks below ...\n",
        "\n",
        "reduce_lr = ReduceLROnPlateau('val_loss', factor=0.1,\n",
        "                              patience=int(patience/4), verbose=1)\n",
        "trained_models_path = base_path \n",
        "model_names = trained_models_path + '.{epoch:02d}-{val_accuracy:.2f}.hdf5' # hdf5 can not be loaded -- it was in the utils file\n",
        "\n",
        "model_checkpoint = ModelCheckpoint(model_names, 'val_loss', verbose=1,\n",
        "                                                save_best_only=True)\n",
        "\n",
        "time_callback = TimeHistory()\n",
        "\n",
        "callbacks = [model_checkpoint, csv_logger, early_stop, reduce_lr]\n",
        "# callbacks = [model_checkpoint, csv_logger, reduce_lr]\n",
        "model.compile(optimizer='adam',\n",
        "              loss=tf.keras.losses.SparseCategoricalCrossentropy(from_logits=True),\n",
        "              metrics=['accuracy'])\n",
        "history = model.fit(X_train, y_train_int, epochs=num_epochs, verbose= 1, \n",
        "                    callbacks = callbacks,\n",
        "                    validation_data=(X_test, y_test_int))\n",
        "\n",
        "# Save the final model and the history file\n",
        "model.save(final_model_path)\n",
        "\n"
      ],
      "execution_count": null,
      "outputs": [
        {
          "output_type": "stream",
          "name": "stdout",
          "text": [
            "./CNN/20\n",
            "./CNN/20TrnHist\n",
            "final_model_path: ./CNN/20_Final.hdf\n",
            "Epoch 1/100\n"
          ]
        },
        {
          "output_type": "stream",
          "name": "stderr",
          "text": [
            "/usr/local/lib/python3.7/dist-packages/tensorflow/python/util/dispatch.py:1096: UserWarning: \"`sparse_categorical_crossentropy` received `from_logits=True`, but the `output` argument was produced by a sigmoid or softmax activation and thus does not represent logits. Was this intended?\"\n",
            "  return dispatch_target(*args, **kwargs)\n"
          ]
        },
        {
          "output_type": "stream",
          "name": "stdout",
          "text": [
            "6/6 [==============================] - ETA: 0s - loss: 2.1837 - accuracy: 0.2663\n",
            "Epoch 00001: val_loss improved from inf to 1.68586, saving model to ./CNN/20.01-0.38.hdf5\n",
            "6/6 [==============================] - 8s 1s/step - loss: 2.1837 - accuracy: 0.2663 - val_loss: 1.6859 - val_accuracy: 0.3810 - lr: 0.0010\n",
            "Epoch 2/100\n",
            "6/6 [==============================] - ETA: 0s - loss: 1.4352 - accuracy: 0.3098\n",
            "Epoch 00002: val_loss did not improve from 1.68586\n",
            "6/6 [==============================] - 1s 203ms/step - loss: 1.4352 - accuracy: 0.3098 - val_loss: 8.7156 - val_accuracy: 0.1905 - lr: 0.0010\n",
            "Epoch 3/100\n",
            "6/6 [==============================] - ETA: 0s - loss: 1.2224 - accuracy: 0.4076\n",
            "Epoch 00003: val_loss did not improve from 1.68586\n",
            "6/6 [==============================] - 1s 196ms/step - loss: 1.2224 - accuracy: 0.4076 - val_loss: 13.6953 - val_accuracy: 0.1905 - lr: 0.0010\n",
            "Epoch 4/100\n",
            "6/6 [==============================] - ETA: 0s - loss: 1.1424 - accuracy: 0.4837\n",
            "Epoch 00004: val_loss did not improve from 1.68586\n",
            "6/6 [==============================] - 1s 193ms/step - loss: 1.1424 - accuracy: 0.4837 - val_loss: 14.1565 - val_accuracy: 0.1905 - lr: 0.0010\n",
            "Epoch 5/100\n",
            "6/6 [==============================] - ETA: 0s - loss: 0.9969 - accuracy: 0.5380\n",
            "Epoch 00005: val_loss did not improve from 1.68586\n",
            "6/6 [==============================] - 1s 197ms/step - loss: 0.9969 - accuracy: 0.5380 - val_loss: 5.6494 - val_accuracy: 0.1429 - lr: 0.0010\n",
            "Epoch 6/100\n",
            "6/6 [==============================] - ETA: 0s - loss: 0.9651 - accuracy: 0.5163\n",
            "Epoch 00006: val_loss did not improve from 1.68586\n",
            "6/6 [==============================] - 1s 195ms/step - loss: 0.9651 - accuracy: 0.5163 - val_loss: 11.3087 - val_accuracy: 0.1905 - lr: 0.0010\n",
            "Epoch 7/100\n",
            "6/6 [==============================] - ETA: 0s - loss: 0.8593 - accuracy: 0.6141\n",
            "Epoch 00007: val_loss did not improve from 1.68586\n",
            "6/6 [==============================] - 1s 193ms/step - loss: 0.8593 - accuracy: 0.6141 - val_loss: 4.7189 - val_accuracy: 0.2381 - lr: 0.0010\n",
            "Epoch 8/100\n",
            "6/6 [==============================] - ETA: 0s - loss: 0.7603 - accuracy: 0.6630\n",
            "Epoch 00008: val_loss did not improve from 1.68586\n",
            "6/6 [==============================] - 1s 191ms/step - loss: 0.7603 - accuracy: 0.6630 - val_loss: 5.8533 - val_accuracy: 0.2381 - lr: 0.0010\n",
            "Epoch 9/100\n",
            "6/6 [==============================] - ETA: 0s - loss: 0.7273 - accuracy: 0.6685\n",
            "Epoch 00009: val_loss did not improve from 1.68586\n",
            "6/6 [==============================] - 1s 200ms/step - loss: 0.7273 - accuracy: 0.6685 - val_loss: 6.0342 - val_accuracy: 0.3333 - lr: 0.0010\n",
            "Epoch 10/100\n",
            "6/6 [==============================] - ETA: 0s - loss: 0.7134 - accuracy: 0.7228\n",
            "Epoch 00010: val_loss did not improve from 1.68586\n",
            "6/6 [==============================] - 1s 193ms/step - loss: 0.7134 - accuracy: 0.7228 - val_loss: 4.9460 - val_accuracy: 0.5714 - lr: 0.0010\n",
            "Epoch 11/100\n",
            "6/6 [==============================] - ETA: 0s - loss: 0.7223 - accuracy: 0.7174\n",
            "Epoch 00011: val_loss did not improve from 1.68586\n",
            "\n",
            "Epoch 00011: ReduceLROnPlateau reducing learning rate to 0.00010000000474974513.\n",
            "6/6 [==============================] - 1s 198ms/step - loss: 0.7223 - accuracy: 0.7174 - val_loss: 6.0561 - val_accuracy: 0.3810 - lr: 0.0010\n",
            "Epoch 12/100\n",
            "6/6 [==============================] - ETA: 0s - loss: 0.6293 - accuracy: 0.7228\n",
            "Epoch 00012: val_loss did not improve from 1.68586\n",
            "6/6 [==============================] - 1s 193ms/step - loss: 0.6293 - accuracy: 0.7228 - val_loss: 4.9793 - val_accuracy: 0.3810 - lr: 1.0000e-04\n",
            "Epoch 13/100\n",
            "6/6 [==============================] - ETA: 0s - loss: 0.5572 - accuracy: 0.7717\n",
            "Epoch 00013: val_loss did not improve from 1.68586\n",
            "6/6 [==============================] - 1s 194ms/step - loss: 0.5572 - accuracy: 0.7717 - val_loss: 3.7726 - val_accuracy: 0.5714 - lr: 1.0000e-04\n",
            "Epoch 14/100\n",
            "6/6 [==============================] - ETA: 0s - loss: 0.5054 - accuracy: 0.8043\n",
            "Epoch 00014: val_loss did not improve from 1.68586\n",
            "6/6 [==============================] - 1s 200ms/step - loss: 0.5054 - accuracy: 0.8043 - val_loss: 4.0759 - val_accuracy: 0.5238 - lr: 1.0000e-04\n",
            "Epoch 15/100\n",
            "6/6 [==============================] - ETA: 0s - loss: 0.4459 - accuracy: 0.8424\n",
            "Epoch 00015: val_loss did not improve from 1.68586\n",
            "6/6 [==============================] - 1s 193ms/step - loss: 0.4459 - accuracy: 0.8424 - val_loss: 4.0556 - val_accuracy: 0.5238 - lr: 1.0000e-04\n",
            "Epoch 16/100\n",
            "6/6 [==============================] - ETA: 0s - loss: 0.4429 - accuracy: 0.8098\n",
            "Epoch 00016: val_loss did not improve from 1.68586\n",
            "6/6 [==============================] - 1s 194ms/step - loss: 0.4429 - accuracy: 0.8098 - val_loss: 3.6427 - val_accuracy: 0.5714 - lr: 1.0000e-04\n",
            "Epoch 17/100\n",
            "6/6 [==============================] - ETA: 0s - loss: 0.4412 - accuracy: 0.8207\n",
            "Epoch 00017: val_loss did not improve from 1.68586\n",
            "6/6 [==============================] - 1s 194ms/step - loss: 0.4412 - accuracy: 0.8207 - val_loss: 3.3632 - val_accuracy: 0.5714 - lr: 1.0000e-04\n",
            "Epoch 18/100\n",
            "6/6 [==============================] - ETA: 0s - loss: 0.3434 - accuracy: 0.8804\n",
            "Epoch 00018: val_loss did not improve from 1.68586\n",
            "6/6 [==============================] - 1s 193ms/step - loss: 0.3434 - accuracy: 0.8804 - val_loss: 3.1303 - val_accuracy: 0.5238 - lr: 1.0000e-04\n",
            "Epoch 19/100\n",
            "6/6 [==============================] - ETA: 0s - loss: 0.3719 - accuracy: 0.8641\n",
            "Epoch 00019: val_loss did not improve from 1.68586\n",
            "6/6 [==============================] - 1s 192ms/step - loss: 0.3719 - accuracy: 0.8641 - val_loss: 2.9817 - val_accuracy: 0.5238 - lr: 1.0000e-04\n",
            "Epoch 20/100\n",
            "6/6 [==============================] - ETA: 0s - loss: 0.3520 - accuracy: 0.8587\n",
            "Epoch 00020: val_loss did not improve from 1.68586\n",
            "6/6 [==============================] - 1s 194ms/step - loss: 0.3520 - accuracy: 0.8587 - val_loss: 2.7862 - val_accuracy: 0.5238 - lr: 1.0000e-04\n",
            "Epoch 21/100\n",
            "6/6 [==============================] - ETA: 0s - loss: 0.3047 - accuracy: 0.8913\n",
            "Epoch 00021: val_loss did not improve from 1.68586\n",
            "\n",
            "Epoch 00021: ReduceLROnPlateau reducing learning rate to 1.0000000474974514e-05.\n",
            "6/6 [==============================] - 1s 191ms/step - loss: 0.3047 - accuracy: 0.8913 - val_loss: 2.5594 - val_accuracy: 0.5238 - lr: 1.0000e-04\n",
            "Epoch 22/100\n",
            "6/6 [==============================] - ETA: 0s - loss: 0.2828 - accuracy: 0.8913\n",
            "Epoch 00022: val_loss did not improve from 1.68586\n",
            "6/6 [==============================] - 1s 192ms/step - loss: 0.2828 - accuracy: 0.8913 - val_loss: 2.4366 - val_accuracy: 0.5238 - lr: 1.0000e-05\n",
            "Epoch 23/100\n",
            "6/6 [==============================] - ETA: 0s - loss: 0.3225 - accuracy: 0.8641\n",
            "Epoch 00023: val_loss did not improve from 1.68586\n",
            "6/6 [==============================] - 1s 192ms/step - loss: 0.3225 - accuracy: 0.8641 - val_loss: 2.3229 - val_accuracy: 0.5238 - lr: 1.0000e-05\n",
            "Epoch 24/100\n",
            "6/6 [==============================] - ETA: 0s - loss: 0.3515 - accuracy: 0.8533\n",
            "Epoch 00024: val_loss did not improve from 1.68586\n",
            "6/6 [==============================] - 1s 194ms/step - loss: 0.3515 - accuracy: 0.8533 - val_loss: 2.2099 - val_accuracy: 0.4762 - lr: 1.0000e-05\n",
            "Epoch 25/100\n",
            "6/6 [==============================] - ETA: 0s - loss: 0.3096 - accuracy: 0.9076\n",
            "Epoch 00025: val_loss did not improve from 1.68586\n",
            "6/6 [==============================] - 1s 194ms/step - loss: 0.3096 - accuracy: 0.9076 - val_loss: 2.1195 - val_accuracy: 0.4762 - lr: 1.0000e-05\n",
            "Epoch 26/100\n",
            "6/6 [==============================] - ETA: 0s - loss: 0.2873 - accuracy: 0.8696\n",
            "Epoch 00026: val_loss did not improve from 1.68586\n",
            "6/6 [==============================] - 1s 192ms/step - loss: 0.2873 - accuracy: 0.8696 - val_loss: 2.0445 - val_accuracy: 0.4762 - lr: 1.0000e-05\n",
            "Epoch 27/100\n",
            "6/6 [==============================] - ETA: 0s - loss: 0.3184 - accuracy: 0.8859\n",
            "Epoch 00027: val_loss did not improve from 1.68586\n",
            "6/6 [==============================] - 1s 193ms/step - loss: 0.3184 - accuracy: 0.8859 - val_loss: 1.9640 - val_accuracy: 0.4762 - lr: 1.0000e-05\n",
            "Epoch 28/100\n",
            "6/6 [==============================] - ETA: 0s - loss: 0.3038 - accuracy: 0.8859\n",
            "Epoch 00028: val_loss did not improve from 1.68586\n",
            "6/6 [==============================] - 1s 192ms/step - loss: 0.3038 - accuracy: 0.8859 - val_loss: 1.8980 - val_accuracy: 0.4762 - lr: 1.0000e-05\n",
            "Epoch 29/100\n",
            "6/6 [==============================] - ETA: 0s - loss: 0.3112 - accuracy: 0.8750\n",
            "Epoch 00029: val_loss did not improve from 1.68586\n",
            "6/6 [==============================] - 1s 193ms/step - loss: 0.3112 - accuracy: 0.8750 - val_loss: 1.8476 - val_accuracy: 0.4762 - lr: 1.0000e-05\n",
            "Epoch 30/100\n",
            "6/6 [==============================] - ETA: 0s - loss: 0.3290 - accuracy: 0.8641\n",
            "Epoch 00030: val_loss did not improve from 1.68586\n",
            "6/6 [==============================] - 1s 196ms/step - loss: 0.3290 - accuracy: 0.8641 - val_loss: 1.8231 - val_accuracy: 0.4762 - lr: 1.0000e-05\n",
            "Epoch 31/100\n",
            "6/6 [==============================] - ETA: 0s - loss: 0.3459 - accuracy: 0.8587\n",
            "Epoch 00031: val_loss did not improve from 1.68586\n",
            "\n",
            "Epoch 00031: ReduceLROnPlateau reducing learning rate to 1.0000000656873453e-06.\n",
            "6/6 [==============================] - 1s 193ms/step - loss: 0.3459 - accuracy: 0.8587 - val_loss: 1.7848 - val_accuracy: 0.4762 - lr: 1.0000e-05\n",
            "Epoch 32/100\n",
            "6/6 [==============================] - ETA: 0s - loss: 0.2947 - accuracy: 0.8859\n",
            "Epoch 00032: val_loss did not improve from 1.68586\n",
            "6/6 [==============================] - 1s 192ms/step - loss: 0.2947 - accuracy: 0.8859 - val_loss: 1.7626 - val_accuracy: 0.4762 - lr: 1.0000e-06\n",
            "Epoch 33/100\n",
            "6/6 [==============================] - ETA: 0s - loss: 0.2969 - accuracy: 0.9022\n",
            "Epoch 00033: val_loss did not improve from 1.68586\n",
            "6/6 [==============================] - 1s 194ms/step - loss: 0.2969 - accuracy: 0.9022 - val_loss: 1.7426 - val_accuracy: 0.4762 - lr: 1.0000e-06\n",
            "Epoch 34/100\n",
            "6/6 [==============================] - ETA: 0s - loss: 0.3005 - accuracy: 0.8750\n",
            "Epoch 00034: val_loss did not improve from 1.68586\n",
            "6/6 [==============================] - 1s 194ms/step - loss: 0.3005 - accuracy: 0.8750 - val_loss: 1.7293 - val_accuracy: 0.4762 - lr: 1.0000e-06\n",
            "Epoch 35/100\n",
            "6/6 [==============================] - ETA: 0s - loss: 0.3020 - accuracy: 0.8804\n",
            "Epoch 00035: val_loss did not improve from 1.68586\n",
            "6/6 [==============================] - 1s 192ms/step - loss: 0.3020 - accuracy: 0.8804 - val_loss: 1.7166 - val_accuracy: 0.4762 - lr: 1.0000e-06\n",
            "Epoch 36/100\n",
            "6/6 [==============================] - ETA: 0s - loss: 0.3157 - accuracy: 0.8804\n",
            "Epoch 00036: val_loss did not improve from 1.68586\n",
            "6/6 [==============================] - 1s 193ms/step - loss: 0.3157 - accuracy: 0.8804 - val_loss: 1.7030 - val_accuracy: 0.4762 - lr: 1.0000e-06\n",
            "Epoch 37/100\n",
            "6/6 [==============================] - ETA: 0s - loss: 0.3760 - accuracy: 0.8533\n",
            "Epoch 00037: val_loss improved from 1.68586 to 1.68569, saving model to ./CNN/20.37-0.48.hdf5\n",
            "6/6 [==============================] - 3s 497ms/step - loss: 0.3760 - accuracy: 0.8533 - val_loss: 1.6857 - val_accuracy: 0.4762 - lr: 1.0000e-06\n",
            "Epoch 38/100\n",
            "6/6 [==============================] - ETA: 0s - loss: 0.3152 - accuracy: 0.8804\n",
            "Epoch 00038: val_loss improved from 1.68569 to 1.67308, saving model to ./CNN/20.38-0.48.hdf5\n",
            "6/6 [==============================] - 3s 486ms/step - loss: 0.3152 - accuracy: 0.8804 - val_loss: 1.6731 - val_accuracy: 0.4762 - lr: 1.0000e-06\n",
            "Epoch 39/100\n",
            "6/6 [==============================] - ETA: 0s - loss: 0.3528 - accuracy: 0.8641\n",
            "Epoch 00039: val_loss improved from 1.67308 to 1.65848, saving model to ./CNN/20.39-0.48.hdf5\n",
            "6/6 [==============================] - 3s 501ms/step - loss: 0.3528 - accuracy: 0.8641 - val_loss: 1.6585 - val_accuracy: 0.4762 - lr: 1.0000e-06\n",
            "Epoch 40/100\n",
            "6/6 [==============================] - ETA: 0s - loss: 0.3054 - accuracy: 0.9076\n",
            "Epoch 00040: val_loss improved from 1.65848 to 1.64254, saving model to ./CNN/20.40-0.48.hdf5\n",
            "6/6 [==============================] - 3s 548ms/step - loss: 0.3054 - accuracy: 0.9076 - val_loss: 1.6425 - val_accuracy: 0.4762 - lr: 1.0000e-06\n",
            "Epoch 41/100\n",
            "6/6 [==============================] - ETA: 0s - loss: 0.2733 - accuracy: 0.8967\n",
            "Epoch 00041: val_loss improved from 1.64254 to 1.62447, saving model to ./CNN/20.41-0.48.hdf5\n",
            "6/6 [==============================] - 3s 627ms/step - loss: 0.2733 - accuracy: 0.8967 - val_loss: 1.6245 - val_accuracy: 0.4762 - lr: 1.0000e-06\n",
            "Epoch 42/100\n",
            "6/6 [==============================] - ETA: 0s - loss: 0.3038 - accuracy: 0.8859\n",
            "Epoch 00042: val_loss improved from 1.62447 to 1.60948, saving model to ./CNN/20.42-0.48.hdf5\n",
            "6/6 [==============================] - 4s 675ms/step - loss: 0.3038 - accuracy: 0.8859 - val_loss: 1.6095 - val_accuracy: 0.4762 - lr: 1.0000e-06\n",
            "Epoch 43/100\n",
            "6/6 [==============================] - ETA: 0s - loss: 0.2892 - accuracy: 0.8859\n",
            "Epoch 00043: val_loss improved from 1.60948 to 1.59847, saving model to ./CNN/20.43-0.48.hdf5\n",
            "6/6 [==============================] - 4s 671ms/step - loss: 0.2892 - accuracy: 0.8859 - val_loss: 1.5985 - val_accuracy: 0.4762 - lr: 1.0000e-06\n",
            "Epoch 44/100\n",
            "6/6 [==============================] - ETA: 0s - loss: 0.3115 - accuracy: 0.8696\n",
            "Epoch 00044: val_loss improved from 1.59847 to 1.58535, saving model to ./CNN/20.44-0.48.hdf5\n",
            "6/6 [==============================] - 6s 1s/step - loss: 0.3115 - accuracy: 0.8696 - val_loss: 1.5853 - val_accuracy: 0.4762 - lr: 1.0000e-06\n",
            "Epoch 45/100\n",
            "6/6 [==============================] - ETA: 0s - loss: 0.2651 - accuracy: 0.8859\n",
            "Epoch 00045: val_loss improved from 1.58535 to 1.56901, saving model to ./CNN/20.45-0.48.hdf5\n",
            "6/6 [==============================] - 6s 1s/step - loss: 0.2651 - accuracy: 0.8859 - val_loss: 1.5690 - val_accuracy: 0.4762 - lr: 1.0000e-06\n",
            "Epoch 46/100\n",
            "6/6 [==============================] - ETA: 0s - loss: 0.3352 - accuracy: 0.8804\n",
            "Epoch 00046: val_loss improved from 1.56901 to 1.54995, saving model to ./CNN/20.46-0.48.hdf5\n",
            "6/6 [==============================] - 4s 810ms/step - loss: 0.3352 - accuracy: 0.8804 - val_loss: 1.5500 - val_accuracy: 0.4762 - lr: 1.0000e-06\n",
            "Epoch 47/100\n",
            "6/6 [==============================] - ETA: 0s - loss: 0.3002 - accuracy: 0.8750\n",
            "Epoch 00047: val_loss improved from 1.54995 to 1.53270, saving model to ./CNN/20.47-0.48.hdf5\n",
            "6/6 [==============================] - 10s 2s/step - loss: 0.3002 - accuracy: 0.8750 - val_loss: 1.5327 - val_accuracy: 0.4762 - lr: 1.0000e-06\n",
            "Epoch 48/100\n",
            "6/6 [==============================] - ETA: 0s - loss: 0.2995 - accuracy: 0.8641\n",
            "Epoch 00048: val_loss improved from 1.53270 to 1.51061, saving model to ./CNN/20.48-0.43.hdf5\n",
            "6/6 [==============================] - 3s 620ms/step - loss: 0.2995 - accuracy: 0.8641 - val_loss: 1.5106 - val_accuracy: 0.4286 - lr: 1.0000e-06\n",
            "Epoch 49/100\n",
            "6/6 [==============================] - ETA: 0s - loss: 0.2725 - accuracy: 0.9076\n",
            "Epoch 00049: val_loss improved from 1.51061 to 1.49047, saving model to ./CNN/20.49-0.48.hdf5\n",
            "6/6 [==============================] - 6s 1s/step - loss: 0.2725 - accuracy: 0.9076 - val_loss: 1.4905 - val_accuracy: 0.4762 - lr: 1.0000e-06\n",
            "Epoch 50/100\n",
            "6/6 [==============================] - ETA: 0s - loss: 0.2879 - accuracy: 0.9022\n",
            "Epoch 00050: val_loss improved from 1.49047 to 1.46674, saving model to ./CNN/20.50-0.48.hdf5\n",
            "6/6 [==============================] - 8s 817ms/step - loss: 0.2879 - accuracy: 0.9022 - val_loss: 1.4667 - val_accuracy: 0.4762 - lr: 1.0000e-06\n",
            "Epoch 51/100\n",
            "6/6 [==============================] - ETA: 0s - loss: 0.3295 - accuracy: 0.8750\n",
            "Epoch 00051: val_loss improved from 1.46674 to 1.43931, saving model to ./CNN/20.51-0.48.hdf5\n",
            "6/6 [==============================] - 7s 1s/step - loss: 0.3295 - accuracy: 0.8750 - val_loss: 1.4393 - val_accuracy: 0.4762 - lr: 1.0000e-06\n",
            "Epoch 52/100\n",
            "6/6 [==============================] - ETA: 0s - loss: 0.2925 - accuracy: 0.8967\n",
            "Epoch 00052: val_loss improved from 1.43931 to 1.41955, saving model to ./CNN/20.52-0.48.hdf5\n",
            "6/6 [==============================] - 8s 2s/step - loss: 0.2925 - accuracy: 0.8967 - val_loss: 1.4196 - val_accuracy: 0.4762 - lr: 1.0000e-06\n",
            "Epoch 53/100\n",
            "6/6 [==============================] - ETA: 0s - loss: 0.2823 - accuracy: 0.8967\n",
            "Epoch 00053: val_loss improved from 1.41955 to 1.40210, saving model to ./CNN/20.53-0.52.hdf5\n",
            "6/6 [==============================] - 3s 590ms/step - loss: 0.2823 - accuracy: 0.8967 - val_loss: 1.4021 - val_accuracy: 0.5238 - lr: 1.0000e-06\n",
            "Epoch 54/100\n",
            "6/6 [==============================] - ETA: 0s - loss: 0.3133 - accuracy: 0.9022\n",
            "Epoch 00054: val_loss improved from 1.40210 to 1.38836, saving model to ./CNN/20.54-0.52.hdf5\n",
            "6/6 [==============================] - 6s 1s/step - loss: 0.3133 - accuracy: 0.9022 - val_loss: 1.3884 - val_accuracy: 0.5238 - lr: 1.0000e-06\n",
            "Epoch 55/100\n",
            "6/6 [==============================] - ETA: 0s - loss: 0.2850 - accuracy: 0.9022\n",
            "Epoch 00055: val_loss improved from 1.38836 to 1.36893, saving model to ./CNN/20.55-0.52.hdf5\n",
            "6/6 [==============================] - 9s 2s/step - loss: 0.2850 - accuracy: 0.9022 - val_loss: 1.3689 - val_accuracy: 0.5238 - lr: 1.0000e-06\n",
            "Epoch 56/100\n",
            "6/6 [==============================] - ETA: 0s - loss: 0.2879 - accuracy: 0.8804\n",
            "Epoch 00056: val_loss improved from 1.36893 to 1.35583, saving model to ./CNN/20.56-0.52.hdf5\n",
            "6/6 [==============================] - 4s 711ms/step - loss: 0.2879 - accuracy: 0.8804 - val_loss: 1.3558 - val_accuracy: 0.5238 - lr: 1.0000e-06\n",
            "Epoch 57/100\n",
            "6/6 [==============================] - ETA: 0s - loss: 0.2914 - accuracy: 0.8967\n",
            "Epoch 00057: val_loss improved from 1.35583 to 1.34015, saving model to ./CNN/20.57-0.52.hdf5\n",
            "6/6 [==============================] - 6s 1s/step - loss: 0.2914 - accuracy: 0.8967 - val_loss: 1.3401 - val_accuracy: 0.5238 - lr: 1.0000e-06\n",
            "Epoch 58/100\n",
            "6/6 [==============================] - ETA: 0s - loss: 0.3010 - accuracy: 0.8967\n",
            "Epoch 00058: val_loss improved from 1.34015 to 1.32135, saving model to ./CNN/20.58-0.52.hdf5\n",
            "6/6 [==============================] - 6s 1s/step - loss: 0.3010 - accuracy: 0.8967 - val_loss: 1.3213 - val_accuracy: 0.5238 - lr: 1.0000e-06\n",
            "Epoch 59/100\n",
            "6/6 [==============================] - ETA: 0s - loss: 0.3051 - accuracy: 0.8804\n",
            "Epoch 00059: val_loss improved from 1.32135 to 1.30543, saving model to ./CNN/20.59-0.52.hdf5\n",
            "6/6 [==============================] - 6s 1s/step - loss: 0.3051 - accuracy: 0.8804 - val_loss: 1.3054 - val_accuracy: 0.5238 - lr: 1.0000e-06\n",
            "Epoch 60/100\n",
            "6/6 [==============================] - ETA: 0s - loss: 0.3412 - accuracy: 0.8750\n",
            "Epoch 00060: val_loss improved from 1.30543 to 1.29388, saving model to ./CNN/20.60-0.52.hdf5\n",
            "6/6 [==============================] - 7s 1s/step - loss: 0.3412 - accuracy: 0.8750 - val_loss: 1.2939 - val_accuracy: 0.5238 - lr: 1.0000e-06\n",
            "Epoch 61/100\n",
            "6/6 [==============================] - ETA: 0s - loss: 0.2598 - accuracy: 0.9185\n",
            "Epoch 00061: val_loss improved from 1.29388 to 1.28788, saving model to ./CNN/20.61-0.52.hdf5\n",
            "6/6 [==============================] - 8s 2s/step - loss: 0.2598 - accuracy: 0.9185 - val_loss: 1.2879 - val_accuracy: 0.5238 - lr: 1.0000e-06\n",
            "Epoch 62/100\n",
            "6/6 [==============================] - ETA: 0s - loss: 0.3177 - accuracy: 0.8913\n",
            "Epoch 00062: val_loss improved from 1.28788 to 1.27737, saving model to ./CNN/20.62-0.52.hdf5\n",
            "6/6 [==============================] - 8s 2s/step - loss: 0.3177 - accuracy: 0.8913 - val_loss: 1.2774 - val_accuracy: 0.5238 - lr: 1.0000e-06\n",
            "Epoch 63/100\n",
            "6/6 [==============================] - ETA: 0s - loss: 0.2839 - accuracy: 0.9185\n",
            "Epoch 00063: val_loss improved from 1.27737 to 1.26239, saving model to ./CNN/20.63-0.52.hdf5\n",
            "6/6 [==============================] - 3s 597ms/step - loss: 0.2839 - accuracy: 0.9185 - val_loss: 1.2624 - val_accuracy: 0.5238 - lr: 1.0000e-06\n",
            "Epoch 64/100\n",
            "6/6 [==============================] - ETA: 0s - loss: 0.2418 - accuracy: 0.9130\n",
            "Epoch 00064: val_loss improved from 1.26239 to 1.24875, saving model to ./CNN/20.64-0.52.hdf5\n",
            "6/6 [==============================] - 6s 1s/step - loss: 0.2418 - accuracy: 0.9130 - val_loss: 1.2487 - val_accuracy: 0.5238 - lr: 1.0000e-06\n",
            "Epoch 65/100\n",
            "6/6 [==============================] - ETA: 0s - loss: 0.3037 - accuracy: 0.8967\n",
            "Epoch 00065: val_loss improved from 1.24875 to 1.23869, saving model to ./CNN/20.65-0.52.hdf5\n",
            "6/6 [==============================] - 6s 1s/step - loss: 0.3037 - accuracy: 0.8967 - val_loss: 1.2387 - val_accuracy: 0.5238 - lr: 1.0000e-06\n",
            "Epoch 66/100\n",
            "6/6 [==============================] - ETA: 0s - loss: 0.2935 - accuracy: 0.8696\n",
            "Epoch 00066: val_loss improved from 1.23869 to 1.23037, saving model to ./CNN/20.66-0.52.hdf5\n",
            "6/6 [==============================] - 8s 2s/step - loss: 0.2935 - accuracy: 0.8696 - val_loss: 1.2304 - val_accuracy: 0.5238 - lr: 1.0000e-06\n",
            "Epoch 67/100\n",
            "6/6 [==============================] - ETA: 0s - loss: 0.3491 - accuracy: 0.8750\n",
            "Epoch 00067: val_loss improved from 1.23037 to 1.22257, saving model to ./CNN/20.67-0.52.hdf5\n",
            "6/6 [==============================] - 6s 1s/step - loss: 0.3491 - accuracy: 0.8750 - val_loss: 1.2226 - val_accuracy: 0.5238 - lr: 1.0000e-06\n",
            "Epoch 68/100\n",
            "6/6 [==============================] - ETA: 0s - loss: 0.3025 - accuracy: 0.8859\n",
            "Epoch 00068: val_loss improved from 1.22257 to 1.21333, saving model to ./CNN/20.68-0.52.hdf5\n",
            "6/6 [==============================] - 9s 2s/step - loss: 0.3025 - accuracy: 0.8859 - val_loss: 1.2133 - val_accuracy: 0.5238 - lr: 1.0000e-06\n",
            "Epoch 69/100\n",
            "6/6 [==============================] - ETA: 0s - loss: 0.2855 - accuracy: 0.8967\n",
            "Epoch 00069: val_loss improved from 1.21333 to 1.20497, saving model to ./CNN/20.69-0.52.hdf5\n",
            "6/6 [==============================] - 3s 637ms/step - loss: 0.2855 - accuracy: 0.8967 - val_loss: 1.2050 - val_accuracy: 0.5238 - lr: 1.0000e-06\n",
            "Epoch 70/100\n",
            "6/6 [==============================] - ETA: 0s - loss: 0.2915 - accuracy: 0.8913\n",
            "Epoch 00070: val_loss improved from 1.20497 to 1.19720, saving model to ./CNN/20.70-0.52.hdf5\n",
            "6/6 [==============================] - 7s 1s/step - loss: 0.2915 - accuracy: 0.8913 - val_loss: 1.1972 - val_accuracy: 0.5238 - lr: 1.0000e-06\n",
            "Epoch 71/100\n",
            "6/6 [==============================] - ETA: 0s - loss: 0.2926 - accuracy: 0.8641\n",
            "Epoch 00071: val_loss improved from 1.19720 to 1.18912, saving model to ./CNN/20.71-0.52.hdf5\n",
            "6/6 [==============================] - 8s 2s/step - loss: 0.2926 - accuracy: 0.8641 - val_loss: 1.1891 - val_accuracy: 0.5238 - lr: 1.0000e-06\n",
            "Epoch 72/100\n",
            "6/6 [==============================] - ETA: 0s - loss: 0.2947 - accuracy: 0.8859\n",
            "Epoch 00072: val_loss improved from 1.18912 to 1.18071, saving model to ./CNN/20.72-0.52.hdf5\n",
            "6/6 [==============================] - 4s 677ms/step - loss: 0.2947 - accuracy: 0.8859 - val_loss: 1.1807 - val_accuracy: 0.5238 - lr: 1.0000e-06\n",
            "Epoch 73/100\n",
            "6/6 [==============================] - ETA: 0s - loss: 0.3236 - accuracy: 0.8696\n",
            "Epoch 00073: val_loss improved from 1.18071 to 1.17625, saving model to ./CNN/20.73-0.52.hdf5\n",
            "6/6 [==============================] - 5s 901ms/step - loss: 0.3236 - accuracy: 0.8696 - val_loss: 1.1762 - val_accuracy: 0.5238 - lr: 1.0000e-06\n",
            "Epoch 74/100\n",
            "6/6 [==============================] - ETA: 0s - loss: 0.2922 - accuracy: 0.8967\n",
            "Epoch 00074: val_loss improved from 1.17625 to 1.17244, saving model to ./CNN/20.74-0.52.hdf5\n",
            "6/6 [==============================] - 7s 1s/step - loss: 0.2922 - accuracy: 0.8967 - val_loss: 1.1724 - val_accuracy: 0.5238 - lr: 1.0000e-06\n",
            "Epoch 75/100\n",
            "6/6 [==============================] - ETA: 0s - loss: 0.3385 - accuracy: 0.8533\n",
            "Epoch 00075: val_loss improved from 1.17244 to 1.16484, saving model to ./CNN/20.75-0.52.hdf5\n",
            "6/6 [==============================] - 10s 2s/step - loss: 0.3385 - accuracy: 0.8533 - val_loss: 1.1648 - val_accuracy: 0.5238 - lr: 1.0000e-06\n",
            "Epoch 76/100\n",
            "6/6 [==============================] - ETA: 0s - loss: 0.3463 - accuracy: 0.8696\n",
            "Epoch 00076: val_loss improved from 1.16484 to 1.15811, saving model to ./CNN/20.76-0.52.hdf5\n",
            "6/6 [==============================] - 4s 721ms/step - loss: 0.3463 - accuracy: 0.8696 - val_loss: 1.1581 - val_accuracy: 0.5238 - lr: 1.0000e-06\n",
            "Epoch 77/100\n",
            "6/6 [==============================] - ETA: 0s - loss: 0.3163 - accuracy: 0.8804\n",
            "Epoch 00077: val_loss improved from 1.15811 to 1.15210, saving model to ./CNN/20.77-0.52.hdf5\n",
            "6/6 [==============================] - 8s 2s/step - loss: 0.3163 - accuracy: 0.8804 - val_loss: 1.1521 - val_accuracy: 0.5238 - lr: 1.0000e-06\n",
            "Epoch 78/100\n",
            "6/6 [==============================] - ETA: 0s - loss: 0.3135 - accuracy: 0.8913\n",
            "Epoch 00078: val_loss improved from 1.15210 to 1.14807, saving model to ./CNN/20.78-0.52.hdf5\n",
            "6/6 [==============================] - 4s 767ms/step - loss: 0.3135 - accuracy: 0.8913 - val_loss: 1.1481 - val_accuracy: 0.5238 - lr: 1.0000e-06\n",
            "Epoch 79/100\n",
            "6/6 [==============================] - ETA: 0s - loss: 0.2937 - accuracy: 0.8913\n",
            "Epoch 00079: val_loss improved from 1.14807 to 1.14194, saving model to ./CNN/20.79-0.52.hdf5\n",
            "6/6 [==============================] - 6s 1s/step - loss: 0.2937 - accuracy: 0.8913 - val_loss: 1.1419 - val_accuracy: 0.5238 - lr: 1.0000e-06\n",
            "Epoch 80/100\n",
            "6/6 [==============================] - ETA: 0s - loss: 0.3153 - accuracy: 0.8804\n",
            "Epoch 00080: val_loss improved from 1.14194 to 1.13680, saving model to ./CNN/20.80-0.52.hdf5\n",
            "6/6 [==============================] - 8s 1s/step - loss: 0.3153 - accuracy: 0.8804 - val_loss: 1.1368 - val_accuracy: 0.5238 - lr: 1.0000e-06\n",
            "Epoch 81/100\n",
            "6/6 [==============================] - ETA: 0s - loss: 0.3404 - accuracy: 0.8696\n",
            "Epoch 00081: val_loss improved from 1.13680 to 1.13510, saving model to ./CNN/20.81-0.52.hdf5\n",
            "6/6 [==============================] - 5s 948ms/step - loss: 0.3404 - accuracy: 0.8696 - val_loss: 1.1351 - val_accuracy: 0.5238 - lr: 1.0000e-06\n",
            "Epoch 82/100\n",
            "6/6 [==============================] - ETA: 0s - loss: 0.2769 - accuracy: 0.9076\n",
            "Epoch 00082: val_loss improved from 1.13510 to 1.13146, saving model to ./CNN/20.82-0.52.hdf5\n",
            "6/6 [==============================] - 7s 1s/step - loss: 0.2769 - accuracy: 0.9076 - val_loss: 1.1315 - val_accuracy: 0.5238 - lr: 1.0000e-06\n",
            "Epoch 83/100\n",
            "6/6 [==============================] - ETA: 0s - loss: 0.3258 - accuracy: 0.8804\n",
            "Epoch 00083: val_loss improved from 1.13146 to 1.12944, saving model to ./CNN/20.83-0.52.hdf5\n",
            "6/6 [==============================] - 9s 2s/step - loss: 0.3258 - accuracy: 0.8804 - val_loss: 1.1294 - val_accuracy: 0.5238 - lr: 1.0000e-06\n",
            "Epoch 84/100\n",
            "6/6 [==============================] - ETA: 0s - loss: 0.2890 - accuracy: 0.8804\n",
            "Epoch 00084: val_loss did not improve from 1.12944\n",
            "6/6 [==============================] - 1s 205ms/step - loss: 0.2890 - accuracy: 0.8804 - val_loss: 1.1318 - val_accuracy: 0.5238 - lr: 1.0000e-06\n",
            "Epoch 85/100\n",
            "6/6 [==============================] - ETA: 0s - loss: 0.2835 - accuracy: 0.8859\n",
            "Epoch 00085: val_loss did not improve from 1.12944\n",
            "6/6 [==============================] - 1s 203ms/step - loss: 0.2835 - accuracy: 0.8859 - val_loss: 1.1324 - val_accuracy: 0.5238 - lr: 1.0000e-06\n",
            "Epoch 86/100\n",
            "6/6 [==============================] - ETA: 0s - loss: 0.3167 - accuracy: 0.8804\n",
            "Epoch 00086: val_loss improved from 1.12944 to 1.12823, saving model to ./CNN/20.86-0.52.hdf5\n",
            "6/6 [==============================] - 3s 556ms/step - loss: 0.3167 - accuracy: 0.8804 - val_loss: 1.1282 - val_accuracy: 0.5238 - lr: 1.0000e-06\n",
            "Epoch 87/100\n",
            "6/6 [==============================] - ETA: 0s - loss: 0.2620 - accuracy: 0.9185\n",
            "Epoch 00087: val_loss improved from 1.12823 to 1.12301, saving model to ./CNN/20.87-0.52.hdf5\n",
            "6/6 [==============================] - 4s 709ms/step - loss: 0.2620 - accuracy: 0.9185 - val_loss: 1.1230 - val_accuracy: 0.5238 - lr: 1.0000e-06\n",
            "Epoch 88/100\n",
            "6/6 [==============================] - ETA: 0s - loss: 0.2971 - accuracy: 0.8859\n",
            "Epoch 00088: val_loss improved from 1.12301 to 1.12057, saving model to ./CNN/20.88-0.52.hdf5\n",
            "6/6 [==============================] - 6s 1s/step - loss: 0.2971 - accuracy: 0.8859 - val_loss: 1.1206 - val_accuracy: 0.5238 - lr: 1.0000e-06\n",
            "Epoch 89/100\n",
            "6/6 [==============================] - ETA: 0s - loss: 0.2957 - accuracy: 0.8859\n",
            "Epoch 00089: val_loss improved from 1.12057 to 1.11805, saving model to ./CNN/20.89-0.52.hdf5\n",
            "6/6 [==============================] - 9s 2s/step - loss: 0.2957 - accuracy: 0.8859 - val_loss: 1.1181 - val_accuracy: 0.5238 - lr: 1.0000e-06\n",
            "Epoch 90/100\n",
            "6/6 [==============================] - ETA: 0s - loss: 0.2883 - accuracy: 0.8967\n",
            "Epoch 00090: val_loss did not improve from 1.11805\n",
            "6/6 [==============================] - 1s 200ms/step - loss: 0.2883 - accuracy: 0.8967 - val_loss: 1.1188 - val_accuracy: 0.5238 - lr: 1.0000e-06\n",
            "Epoch 91/100\n",
            "6/6 [==============================] - ETA: 0s - loss: 0.3078 - accuracy: 0.8967\n",
            "Epoch 00091: val_loss improved from 1.11805 to 1.11461, saving model to ./CNN/20.91-0.52.hdf5\n",
            "6/6 [==============================] - 3s 633ms/step - loss: 0.3078 - accuracy: 0.8967 - val_loss: 1.1146 - val_accuracy: 0.5238 - lr: 1.0000e-06\n",
            "Epoch 92/100\n",
            "6/6 [==============================] - ETA: 0s - loss: 0.2999 - accuracy: 0.9130\n",
            "Epoch 00092: val_loss did not improve from 1.11461\n",
            "6/6 [==============================] - 3s 641ms/step - loss: 0.2999 - accuracy: 0.9130 - val_loss: 1.1155 - val_accuracy: 0.5238 - lr: 1.0000e-06\n",
            "Epoch 93/100\n",
            "6/6 [==============================] - ETA: 0s - loss: 0.3008 - accuracy: 0.8913\n",
            "Epoch 00093: val_loss improved from 1.11461 to 1.11296, saving model to ./CNN/20.93-0.52.hdf5\n",
            "6/6 [==============================] - 4s 753ms/step - loss: 0.3008 - accuracy: 0.8913 - val_loss: 1.1130 - val_accuracy: 0.5238 - lr: 1.0000e-06\n",
            "Epoch 94/100\n",
            "6/6 [==============================] - ETA: 0s - loss: 0.3056 - accuracy: 0.8859\n",
            "Epoch 00094: val_loss improved from 1.11296 to 1.10998, saving model to ./CNN/20.94-0.52.hdf5\n",
            "6/6 [==============================] - 8s 2s/step - loss: 0.3056 - accuracy: 0.8859 - val_loss: 1.1100 - val_accuracy: 0.5238 - lr: 1.0000e-06\n",
            "Epoch 95/100\n",
            "6/6 [==============================] - ETA: 0s - loss: 0.3372 - accuracy: 0.8696\n",
            "Epoch 00095: val_loss improved from 1.10998 to 1.10568, saving model to ./CNN/20.95-0.52.hdf5\n",
            "6/6 [==============================] - 3s 636ms/step - loss: 0.3372 - accuracy: 0.8696 - val_loss: 1.1057 - val_accuracy: 0.5238 - lr: 1.0000e-06\n",
            "Epoch 96/100\n",
            "6/6 [==============================] - ETA: 0s - loss: 0.2832 - accuracy: 0.8967\n",
            "Epoch 00096: val_loss improved from 1.10568 to 1.10257, saving model to ./CNN/20.96-0.52.hdf5\n",
            "6/6 [==============================] - 9s 2s/step - loss: 0.2832 - accuracy: 0.8967 - val_loss: 1.1026 - val_accuracy: 0.5238 - lr: 1.0000e-06\n",
            "Epoch 97/100\n",
            "6/6 [==============================] - ETA: 0s - loss: 0.3381 - accuracy: 0.8696\n",
            "Epoch 00097: val_loss improved from 1.10257 to 1.10111, saving model to ./CNN/20.97-0.52.hdf5\n",
            "6/6 [==============================] - 4s 707ms/step - loss: 0.3381 - accuracy: 0.8696 - val_loss: 1.1011 - val_accuracy: 0.5238 - lr: 1.0000e-06\n",
            "Epoch 98/100\n",
            "6/6 [==============================] - ETA: 0s - loss: 0.3153 - accuracy: 0.8696\n",
            "Epoch 00098: val_loss improved from 1.10111 to 1.09850, saving model to ./CNN/20.98-0.52.hdf5\n",
            "6/6 [==============================] - 7s 1s/step - loss: 0.3153 - accuracy: 0.8696 - val_loss: 1.0985 - val_accuracy: 0.5238 - lr: 1.0000e-06\n",
            "Epoch 99/100\n",
            "6/6 [==============================] - ETA: 0s - loss: 0.3305 - accuracy: 0.8696\n",
            "Epoch 00099: val_loss improved from 1.09850 to 1.09834, saving model to ./CNN/20.99-0.52.hdf5\n",
            "6/6 [==============================] - 8s 2s/step - loss: 0.3305 - accuracy: 0.8696 - val_loss: 1.0983 - val_accuracy: 0.5238 - lr: 1.0000e-06\n",
            "Epoch 100/100\n",
            "6/6 [==============================] - ETA: 0s - loss: 0.2541 - accuracy: 0.9130\n",
            "Epoch 00100: val_loss did not improve from 1.09834\n",
            "6/6 [==============================] - 1s 210ms/step - loss: 0.2541 - accuracy: 0.9130 - val_loss: 1.0998 - val_accuracy: 0.5238 - lr: 1.0000e-06\n",
            "INFO:tensorflow:Assets written to: ./CNN/20_Final.hdf/assets\n"
          ]
        }
      ]
    },
    {
      "cell_type": "code",
      "metadata": {
        "colab": {
          "base_uri": "https://localhost:8080/",
          "height": 544
        },
        "id": "Z3KPCkeaiAGn",
        "outputId": "6d02833e-4830-48ae-87a3-31d6455501ac"
      },
      "source": [
        "from matplotlib import pyplot\n",
        "\n",
        "pyplot.plot(history.history['accuracy'])\n",
        "pyplot.plot(history.history['val_accuracy'])\n",
        "pyplot.title('Training and validation accuracy')\n",
        "pyplot.show()\n",
        "\n",
        "pyplot.plot(history.history['loss'])\n",
        "pyplot.plot(history.history['val_loss'])\n",
        "pyplot.title('Training and validation loss')\n",
        "pyplot.show()\n"
      ],
      "execution_count": null,
      "outputs": [
        {
          "output_type": "display_data",
          "data": {
            "image/png": "[encoded data removed]",
            "text/plain": [
              "<Figure size 432x288 with 1 Axes>"
            ]
          },
          "metadata": {
            "needs_background": "light"
          }
        },
        {
          "output_type": "display_data",
          "data": {
            "image/png": "[encoded data removed]",
            "text/plain": [
              "<Figure size 432x288 with 1 Axes>"
            ]
          },
          "metadata": {
            "needs_background": "light"
          }
        }
      ]
    },
    {
      "cell_type": "code",
      "metadata": {
        "colab": {
          "base_uri": "https://localhost:8080/"
        },
        "id": "T81gfpkuHuwq",
        "outputId": "3fd1966a-aa5a-4a88-974a-518eb900658e"
      },
      "source": [
        "# test dataset\n",
        "\n",
        "test_data_path = '/content/drive/MyDrive/Research/Summer_Research_2021/TrainimgData_Tif/TestData_CSC_RGB'\n",
        "os.listdir(test_data_path)\n"
      ],
      "execution_count": null,
      "outputs": [
        {
          "output_type": "execute_result",
          "data": {
            "text/plain": [
              "['None', 'Aone', 'Pone', 'Bfour']"
            ]
          },
          "metadata": {},
          "execution_count": 66
        }
      ]
    },
    {
      "cell_type": "code",
      "metadata": {
        "colab": {
          "base_uri": "https://localhost:8080/"
        },
        "id": "kSO1MifQMBpf",
        "outputId": "96883ce1-6940-40d9-e3af-6384b806eeed"
      },
      "source": [
        "\n",
        "base_name = 'cancer'\n",
        "width = 256\n",
        "\n",
        "test_include = {'None', 'Aone', 'Pone', 'Bfour'}\n",
        "\n",
        "resize_all(src=test_data_path, pklname=base_name, width=width, include=test_include)\n",
        "\n",
        "from collections import Counter\n",
        " \n",
        "test_data = joblib.load(f'{base_name}_{width}x{width}px.pkl')\n",
        "\n",
        "print('number of samples: ', len(test_data['data']))\n",
        "print('keys: ', list(test_data.keys()))\n",
        "print('description: ', test_data['description'])\n",
        "print('image shape: ', test_data['data'][0].shape)\n",
        "print('labels:', np.unique(test_data['label']))\n",
        " \n",
        "Counter(test_data['label'])"
      ],
      "execution_count": null,
      "outputs": [
        {
          "output_type": "stream",
          "name": "stdout",
          "text": [
            "None\n",
            "Aone\n",
            "Pone\n",
            "Bfour\n",
            "number of samples:  20\n",
            "keys:  ['description', 'label', 'filename', 'data']\n",
            "description:  resized (256x256) cancer images in rgb\n",
            "image shape:  (256, 256, 3)\n",
            "labels: ['Aone' 'Bfour' 'None' 'Pone']\n"
          ]
        },
        {
          "output_type": "execute_result",
          "data": {
            "text/plain": [
              "Counter({'Aone': 5, 'Bfour': 5, 'None': 5, 'Pone': 5})"
            ]
          },
          "metadata": {},
          "execution_count": 68
        }
      ]
    },
    {
      "cell_type": "code",
      "metadata": {
        "colab": {
          "base_uri": "https://localhost:8080/"
        },
        "id": "qszezltpJbX4",
        "outputId": "e2df4e4e-972e-485e-d2d4-226fd012d4e1"
      },
      "source": [
        "X_test_data = np.array(test_data['data'])\n",
        "y_true_categ = np.array(test_data['label'])\n",
        "print(y_true_categ)\n"
      ],
      "execution_count": null,
      "outputs": [
        {
          "output_type": "stream",
          "name": "stdout",
          "text": [
            "['None' 'None' 'None' 'None' 'None' 'Aone' 'Aone' 'Aone' 'Aone' 'Aone'\n",
            " 'Pone' 'Pone' 'Pone' 'Pone' 'Pone' 'Bfour' 'Bfour' 'Bfour' 'Bfour'\n",
            " 'Bfour']\n"
          ]
        }
      ]
    },
    {
      "cell_type": "code",
      "metadata": {
        "id": "7nndJu5FOXtq",
        "colab": {
          "base_uri": "https://localhost:8080/"
        },
        "outputId": "f7c5b82d-2dad-4984-8910-b0ae56343f32"
      },
      "source": [
        "import numpy as np\n",
        "# turn string into int\n",
        "def turn_int(arraylist):\n",
        "  y_train_int = []\n",
        "  for i in arraylist:\n",
        "    if i == 'Aone':\n",
        "      y_train_int.append(0)\n",
        "    if i == 'None':\n",
        "      y_train_int.append(1)\n",
        "    if i == 'Bfour':\n",
        "      y_train_int.append(2)\n",
        "    if i == 'Pone':\n",
        "      y_train_int.append(3)\n",
        "  return y_train_int\n",
        "\n",
        "# y_true_categ_list = y_true_categ.tolist()\n",
        "y_true_categ_int = turn_int(y_true_categ)\n",
        "\n",
        "print(y_true_categ_int)"
      ],
      "execution_count": null,
      "outputs": [
        {
          "output_type": "stream",
          "name": "stdout",
          "text": [
            "[1, 1, 1, 1, 1, 0, 0, 0, 0, 0, 3, 3, 3, 3, 3, 2, 2, 2, 2, 2]\n"
          ]
        }
      ]
    },
    {
      "cell_type": "code",
      "metadata": {
        "colab": {
          "base_uri": "https://localhost:8080/"
        },
        "id": "TEWQaB9KJoIf",
        "outputId": "7c8c1816-aac4-4544-b26c-e20854044708"
      },
      "source": [
        "# the test data is not being shuffled.\n",
        "y_prob = model.predict(X_test_data, batch_size=16, verbose=0)\n",
        "y_pred = [np.argmax(prob) for prob in y_prob]\n",
        "print(y_pred)\n",
        "# Get accuracy:\n",
        "print(\"\\n\\n Accuracy: \")\n",
        "from sklearn.metrics import accuracy_score\n",
        "accuracy_score(y_true_categ_int, y_pred)\n",
        "\n",
        "\n"
      ],
      "execution_count": null,
      "outputs": [
        {
          "output_type": "stream",
          "name": "stdout",
          "text": [
            "[1, 1, 1, 1, 1, 2, 2, 3, 2, 0, 3, 3, 3, 0, 2, 0, 2, 2, 2, 2]\n",
            "\n",
            "\n",
            " Accuracy: \n"
          ]
        },
        {
          "output_type": "execute_result",
          "data": {
            "text/plain": [
              "0.65"
            ]
          },
          "metadata": {},
          "execution_count": 83
        }
      ]
    }
  ]
}